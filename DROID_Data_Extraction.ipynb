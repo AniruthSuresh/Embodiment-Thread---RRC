{
  "cells": [
    {
      "cell_type": "markdown",
      "source": [],
      "metadata": {
        "id": "dnt5oYjgf57e"
      }
    },
    {
      "cell_type": "code",
      "source": [
        "!gsutil ls gs://gresearch/robotics/droid_raw/1.0.1/GuptaLab/success/2023-04-30/Sun_Apr_30_18:23:30_2023"
      ],
      "metadata": {
        "colab": {
          "base_uri": "https://localhost:8080/"
        },
        "id": "Knsl9yIuRnGV",
        "outputId": "69cd91c9-9c2b-4be8-cb27-ea68ffc5c7f0"
      },
      "execution_count": null,
      "outputs": [
        {
          "output_type": "stream",
          "name": "stdout",
          "text": [
            "gs://gresearch/robotics/droid_raw/1.0.1/GuptaLab/success/2023-04-30/Sun_Apr_30_18:23:30_2023/metadata_GuptaLab+553d1bd5+2023-04-30-18h-23m-30s.json\n",
            "gs://gresearch/robotics/droid_raw/1.0.1/GuptaLab/success/2023-04-30/Sun_Apr_30_18:23:30_2023/trajectory.h5\n",
            "gs://gresearch/robotics/droid_raw/1.0.1/GuptaLab/success/2023-04-30/Sun_Apr_30_18:23:30_2023/trajectory_im128.h5\n",
            "gs://gresearch/robotics/droid_raw/1.0.1/GuptaLab/success/2023-04-30/Sun_Apr_30_18:23:30_2023/recordings/\n"
          ]
        }
      ]
    },
    {
      "cell_type": "code",
      "source": [
        "!gsutil ls gs://gresearch/robotics/droid_raw/1.0.1/GuptaLab/success/2023-04-20/Thu_Apr_20_14:28:23_2023/"
      ],
      "metadata": {
        "colab": {
          "base_uri": "https://localhost:8080/"
        },
        "id": "xAhO0lALJ6-D",
        "outputId": "10ffbafc-d51f-48d7-e375-6cdadcdd6449"
      },
      "execution_count": null,
      "outputs": [
        {
          "output_type": "stream",
          "name": "stdout",
          "text": [
            "gs://gresearch/robotics/droid_raw/1.0.1/GuptaLab/success/2023-04-20/Thu_Apr_20_14:28:23_2023/metadata_GuptaLab+553d1bd5+2023-04-20-14h-28m-23s.json\n",
            "gs://gresearch/robotics/droid_raw/1.0.1/GuptaLab/success/2023-04-20/Thu_Apr_20_14:28:23_2023/trajectory.h5\n",
            "gs://gresearch/robotics/droid_raw/1.0.1/GuptaLab/success/2023-04-20/Thu_Apr_20_14:28:23_2023/trajectory_im128.h5\n",
            "gs://gresearch/robotics/droid_raw/1.0.1/GuptaLab/success/2023-04-20/Thu_Apr_20_14:28:23_2023/recordings/\n"
          ]
        }
      ]
    },
    {
      "cell_type": "code",
      "execution_count": null,
      "metadata": {
        "colab": {
          "base_uri": "https://localhost:8080/"
        },
        "id": "6pTYwBAblyT6",
        "outputId": "292e8956-96db-4799-bb05-8afba32adc65"
      },
      "outputs": [
        {
          "output_type": "stream",
          "name": "stdout",
          "text": [
            "gs://gresearch/robotics/droid_raw/1.0.1/AUTOLab/success/2023-07-08/Sat_Jul__8_10:49:28_2023/recordings/SVO/18026681.svo\n",
            "gs://gresearch/robotics/droid_raw/1.0.1/AUTOLab/success/2023-07-08/Sat_Jul__8_10:49:28_2023/recordings/SVO/22008760.svo\n",
            "gs://gresearch/robotics/droid_raw/1.0.1/AUTOLab/success/2023-07-08/Sat_Jul__8_10:49:28_2023/recordings/SVO/24400334.svo\n"
          ]
        }
      ],
      "source": [
        "!gsutil ls gs://gresearch/robotics/droid_raw/1.0.1/AUTOLab/success/2023-07-08/Sat_Jul__8_10:49:28_2023/recordings/SVO"
      ]
    },
    {
      "cell_type": "code",
      "execution_count": null,
      "metadata": {
        "colab": {
          "base_uri": "https://localhost:8080/"
        },
        "id": "VAG8X_eAG_MF",
        "outputId": "99a45c4f-47d6-45b2-f8a2-d0fbdcb9c012"
      },
      "outputs": [
        {
          "output_type": "stream",
          "name": "stdout",
          "text": [
            "{\"uuid\": \"GuptaLab+553d1bd5+2023-07-09-18h-59m-44s\", \"lab\": \"GuptaLab\", \"user\": \"Mohan Kumar\", \"user_id\": \"553d1bd5\", \"date\": \"2023-07-09\", \"timestamp\": \"2023-07-09-18h-59m-44s\", \"hdf5_path\": \"success/2023-07-09/Sun_Jul__9_18:59:44_2023/trajectory.h5\", \"building\": \"Smith Hall 121\", \"scene_id\": 500180237, \"success\": true, \"robot_serial\": \"panda-295341-1325237\", \"r2d2_version\": \"1.3\", \"current_task\": \"Move object into or out of container (ex: drawer, clothes hamper, plate, trashcan, washer)\", \"trajectory_length\": 668, \"wrist_cam_serial\": \"16291792\", \"ext1_cam_serial\": \"22246076\", \"ext2_cam_serial\": \"26638268\", \"wrist_cam_extrinsics\": [0.38476760593776255, -0.003948729810592848, 0.5165126234498831, 2.7075348819976526, 0.04361013913601752, 1.6120851055998053], \"ext1_cam_extrinsics\": [-0.17238707747361265, 0.8769851356846587, 0.6402230222978303, -2.016203625251342, -0.14133446426244434, -2.1535101463892876], \"ext2_cam_extrinsics\": [-0.09266930443312493, -0.6728005528752469, 0.7255122712514632, -2.0652108905848525, -0.044261023202784244, -0.7831954840713313], \"wrist_svo_path\": \"success/2023-07-09/Sun_Jul__9_18:59:44_2023/recordings/SVO/16291792.svo\", \"wrist_mp4_path\": \"success/2023-07-09/Sun_Jul__9_18:59:44_2023/recordings/MP4/16291792.mp4\", \"ext1_svo_path\": \"success/2023-07-09/Sun_Jul__9_18:59:44_2023/recordings/SVO/22246076.svo\", \"ext1_mp4_path\": \"success/2023-07-09/Sun_Jul__9_18:59:44_2023/recordings/MP4/22246076.mp4\", \"ext2_svo_path\": \"success/2023-07-09/Sun_Jul__9_18:59:44_2023/recordings/SVO/26638268.svo\", \"ext2_mp4_path\": \"success/2023-07-09/Sun_Jul__9_18:59:44_2023/recordings/MP4/26638268.mp4\", \"left_mp4_path\": \"success/2023-07-09/Sun_Jul__9_18:59:44_2023/recordings/MP4/22246076.mp4\", \"right_mp4_path\": \"success/2023-07-09/Sun_Jul__9_18:59:44_2023/recordings/MP4/26638268.mp4\"}"
          ]
        }
      ],
      "source": [
        "!gsutil cat gs://gresearch/robotics/droid_raw/1.0.1/GuptaLab/success/2023-07-09/Sun_Jul__9_18:59:44_2023/metadata_GuptaLab+553d1bd5+2023-07-09-18h-59m-44s.json"
      ]
    },
    {
      "cell_type": "code",
      "execution_count": null,
      "metadata": {
        "colab": {
          "base_uri": "https://localhost:8080/"
        },
        "id": "nea9zRiKRHDQ",
        "outputId": "c487543d-db69-4b10-d483-ed9d172eb0e7"
      },
      "outputs": [
        {
          "output_type": "stream",
          "name": "stdout",
          "text": [
            "/content\n"
          ]
        }
      ],
      "source": [
        "%cd /content"
      ]
    },
    {
      "cell_type": "code",
      "execution_count": null,
      "metadata": {
        "id": "9l1bca15HpAT"
      },
      "outputs": [],
      "source": [
        "!mkdir store_data"
      ]
    },
    {
      "cell_type": "code",
      "source": [],
      "metadata": {
        "id": "oGEo8epcKj_X"
      },
      "execution_count": null,
      "outputs": []
    },
    {
      "cell_type": "code",
      "execution_count": null,
      "metadata": {
        "colab": {
          "base_uri": "https://localhost:8080/"
        },
        "id": "6WLG1lO6hSWk",
        "outputId": "b89a6c49-c43d-4fc4-a87a-d92eb8e47706"
      },
      "outputs": [
        {
          "output_type": "stream",
          "name": "stdout",
          "text": [
            "CommandException: No URLs matched: gs://gresearch/robotics/droid_raw/1.0.1/GuptaLab/success/2023-06-18\n"
          ]
        }
      ],
      "source": [
        "!gsutil cat gs://gresearch/robotics/droid_raw/1.0.1/GuptaLab/success/2023-06-18"
      ]
    },
    {
      "cell_type": "code",
      "execution_count": null,
      "metadata": {
        "colab": {
          "base_uri": "https://localhost:8080/"
        },
        "id": "vC1KtxvycTA-",
        "outputId": "7e2f8ad2-87f9-406e-ba36-a504e251bdd2"
      },
      "outputs": [
        {
          "output_type": "stream",
          "name": "stdout",
          "text": [
            "{\"uuid\": \"GuptaLab+553d1bd5+2023-06-18-21h-19m-59s\", \"lab\": \"GuptaLab\", \"user\": \"Mohan Kumar\", \"user_id\": \"553d1bd5\", \"date\": \"2023-06-18\", \"timestamp\": \"2023-06-18-21h-19m-59s\", \"hdf5_path\": \"success/2023-06-18/Sun_Jun_18_21:19:59_2023/trajectory.h5\", \"building\": \"Smith Hall Fetch Lab\", \"scene_id\": 5235850418, \"success\": true, \"robot_serial\": \"295341-1325237\", \"r2d2_version\": \"1.1\", \"current_task\": \"Open or close slidable objects (ex: toaster, drawers, sliding doors, dressers)\", \"trajectory_length\": 71, \"wrist_cam_serial\": \"16291792\", \"ext1_cam_serial\": \"22246076\", \"ext2_cam_serial\": \"26638268\", \"wrist_cam_extrinsics\": [0.21885381960889255, -0.1423664457067457, 0.5268558746424304, 2.5341523292697015, 0.16268025844624878, 1.5880563561609717], \"ext1_cam_extrinsics\": [0.06126845421106433, 0.4951337668615451, 0.6651930769671347, -1.5755163454721475, 0.009724033533159426, -2.1473608246676887], \"ext2_cam_extrinsics\": [-0.17495316663380056, -0.5501611345841874, 0.7400616933701863, -1.8397329180199886, 0.03189800322350522, -1.014778279113198], \"wrist_svo_path\": \"success/2023-06-18/Sun_Jun_18_21:19:59_2023/recordings/SVO/16291792.svo\", \"wrist_mp4_path\": \"success/2023-06-18/Sun_Jun_18_21:19:59_2023/recordings/MP4/16291792.mp4\", \"ext1_svo_path\": \"success/2023-06-18/Sun_Jun_18_21:19:59_2023/recordings/SVO/22246076.svo\", \"ext1_mp4_path\": \"success/2023-06-18/Sun_Jun_18_21:19:59_2023/recordings/MP4/22246076.mp4\", \"ext2_svo_path\": \"success/2023-06-18/Sun_Jun_18_21:19:59_2023/recordings/SVO/26638268.svo\", \"ext2_mp4_path\": \"success/2023-06-18/Sun_Jun_18_21:19:59_2023/recordings/MP4/26638268.mp4\", \"left_mp4_path\": \"success/2023-06-18/Sun_Jun_18_21:19:59_2023/recordings/MP4/22246076.mp4\", \"right_mp4_path\": \"success/2023-06-18/Sun_Jun_18_21:19:59_2023/recordings/MP4/26638268.mp4\"}"
          ]
        }
      ],
      "source": [
        "!gsutil cat gs://gresearch/robotics/droid_raw/1.0.1/GuptaLab/success/2023-06-18/Sun_Jun_18_21:19:59_2023/metadata_GuptaLab+553d1bd5+2023-06-18-21h-19m-59s.json"
      ]
    },
    {
      "cell_type": "code",
      "source": [
        "gs://gresearch/robotics/droid_raw/1.0.1/AUTOLab/success/2023-08-12/Sat_Aug_12_16:26:07_2023/metadata_AUTOLab+5d05c5aa+2023-08-12-16h-26m-07s.json /content/store_data!gsutil -m cp -r"
      ],
      "metadata": {
        "colab": {
          "base_uri": "https://localhost:8080/"
        },
        "id": "S_hAU2vUXT7_",
        "outputId": "685c480d-1015-4ee0-8048-c5c2c19b499a"
      },
      "execution_count": null,
      "outputs": [
        {
          "output_type": "stream",
          "name": "stdout",
          "text": [
            "Copying gs://gresearch/robotics/droid_raw/1.0.1/AUTOLab/success/2023-08-12/Sat_Aug_12_16:26:07_2023/metadata_AUTOLab+5d05c5aa+2023-08-12-16h-26m-07s.json...\n",
            "/ [0/1 files][    0.0 B/  1.7 KiB]   0% Done                                    \r/ [1/1 files][  1.7 KiB/  1.7 KiB] 100% Done                                    \r\n",
            "Operation completed over 1 objects/1.7 KiB.                                      \n"
          ]
        }
      ]
    },
    {
      "cell_type": "code",
      "source": [
        "!gsutil ls gs://gresearch/robotics/droid_raw/1.0.1/GuptaLab/success/2023-04-20/Thu_Apr_20_14:28:23_2023/recordings/SVO"
      ],
      "metadata": {
        "colab": {
          "base_uri": "https://localhost:8080/"
        },
        "id": "E2s1oU9DXafz",
        "outputId": "b216dc89-b9ec-4006-c676-f0803cad80c5"
      },
      "execution_count": null,
      "outputs": [
        {
          "output_type": "stream",
          "name": "stdout",
          "text": [
            "gs://gresearch/robotics/droid_raw/1.0.1/GuptaLab/success/2023-04-20/Thu_Apr_20_14:28:23_2023/recordings/SVO/16291792.svo\n",
            "gs://gresearch/robotics/droid_raw/1.0.1/GuptaLab/success/2023-04-20/Thu_Apr_20_14:28:23_2023/recordings/SVO/22246076.svo\n",
            "gs://gresearch/robotics/droid_raw/1.0.1/GuptaLab/success/2023-04-20/Thu_Apr_20_14:28:23_2023/recordings/SVO/26638268.svo\n"
          ]
        }
      ]
    },
    {
      "cell_type": "code",
      "source": [],
      "metadata": {
        "id": "GP07OqY_qG8l"
      },
      "execution_count": null,
      "outputs": []
    },
    {
      "cell_type": "code",
      "source": [
        "!mkdir store_svo"
      ],
      "metadata": {
        "id": "B5HSBZKMX1ko"
      },
      "execution_count": null,
      "outputs": []
    },
    {
      "cell_type": "code",
      "source": [
        "# !gsutil cp gs://gresearch/robotics/droid_raw/1.0.1/GuptaLab/success/2023-05-19/Fri_May_19_10:56:04_2023/recordings/SVO/16291792.svo /content/store_svo/\n",
        "!gsutil cp -r gs://gresearch/robotics/droid_raw/1.0.1/AUTOLab/success/2023-08-12/Sat_Aug_12_16:26:07_2023/recordings/ /content/store_svo/\n",
        "# !gsutil cp gs://gresearch/robotics/droid_raw/1.0.1/GuptaLab/success/2023-05-19/Fri_May_19_10:56:04_2023/recordings/SVO/26638268.svo /content/store_svo/\n"
      ],
      "metadata": {
        "colab": {
          "base_uri": "https://localhost:8080/"
        },
        "id": "bP7nAYVGXxJu",
        "outputId": "d1c416ff-4682-4035-c131-7d3aed26a9a4"
      },
      "execution_count": null,
      "outputs": [
        {
          "output_type": "stream",
          "name": "stdout",
          "text": [
            "Copying gs://gresearch/robotics/droid_raw/1.0.1/AUTOLab/success/2023-08-12/Sat_Aug_12_16:26:07_2023/recordings/MP4/18026681-stereo.mp4...\n",
            "Copying gs://gresearch/robotics/droid_raw/1.0.1/AUTOLab/success/2023-08-12/Sat_Aug_12_16:26:07_2023/recordings/MP4/18026681.mp4...\n",
            "Copying gs://gresearch/robotics/droid_raw/1.0.1/AUTOLab/success/2023-08-12/Sat_Aug_12_16:26:07_2023/recordings/MP4/22008760-stereo.mp4...\n",
            "Copying gs://gresearch/robotics/droid_raw/1.0.1/AUTOLab/success/2023-08-12/Sat_Aug_12_16:26:07_2023/recordings/MP4/22008760.mp4...\n",
            "\\ [4 files][ 38.0 MiB/ 38.0 MiB]                                                \n",
            "==> NOTE: You are performing a sequence of gsutil operations that may\n",
            "run significantly faster if you instead use gsutil -m cp ... Please\n",
            "see the -m section under \"gsutil help options\" for further information\n",
            "about when gsutil -m can be advantageous.\n",
            "\n",
            "Copying gs://gresearch/robotics/droid_raw/1.0.1/AUTOLab/success/2023-08-12/Sat_Aug_12_16:26:07_2023/recordings/MP4/24400334-stereo.mp4...\n",
            "Copying gs://gresearch/robotics/droid_raw/1.0.1/AUTOLab/success/2023-08-12/Sat_Aug_12_16:26:07_2023/recordings/MP4/24400334.mp4...\n",
            "Copying gs://gresearch/robotics/droid_raw/1.0.1/AUTOLab/success/2023-08-12/Sat_Aug_12_16:26:07_2023/recordings/SVO/18026681.svo...\n",
            "Copying gs://gresearch/robotics/droid_raw/1.0.1/AUTOLab/success/2023-08-12/Sat_Aug_12_16:26:07_2023/recordings/SVO/22008760.svo...\n",
            "Copying gs://gresearch/robotics/droid_raw/1.0.1/AUTOLab/success/2023-08-12/Sat_Aug_12_16:26:07_2023/recordings/SVO/24400334.svo...\n",
            "- [9 files][ 81.7 MiB/ 81.7 MiB]                                                \n",
            "Operation completed over 9 objects/81.7 MiB.                                     \n"
          ]
        }
      ]
    },
    {
      "cell_type": "markdown",
      "source": [],
      "metadata": {
        "id": "UbmLzOZJuh_l"
      }
    },
    {
      "cell_type": "markdown",
      "metadata": {
        "id": "v79vpEijKssZ"
      },
      "source": [
        "**Uses the path in the json and saved the videoes in a separate folder ```videos```**\n",
        "\n"
      ]
    },
    {
      "cell_type": "code",
      "execution_count": null,
      "metadata": {
        "id": "Zza806eEIRv3"
      },
      "outputs": [],
      "source": [
        "import requests\n",
        "import json\n",
        "import os\n",
        "\n",
        "json_data = '''\n",
        "{\"uuid\": \"GuptaLab+553d1bd5+2023-04-20-14h-28m-23s\", \"lab\": \"GuptaLab\", \"user\": \"Mohan Kumar\", \"user_id\": \"553d1bd5\", \"date\": \"2023-04-20\", \"timestamp\": \"2023-04-20-14h-28m-23s\", \"hdf5_path\": \"success/2023-04-20/Thu_Apr_20_14:28:23_2023/trajectory.h5\", \"building\": \"Smith Hall Fetch Lab\", \"scene_id\": 9934859632, \"success\": true, \"robot_serial\": \"295341-1325237\", \"r2d2_version\": \"1.1\", \"current_task\": \"Move object into or out of container (ex: drawer, clothes hamper, plate, trashcan, washer)\", \"trajectory_length\": 140, \"wrist_cam_serial\": \"16291792\", \"ext1_cam_serial\": \"22246076\", \"ext2_cam_serial\": \"26638268\", \"wrist_cam_extrinsics\": [0.3285869949117049, -0.15715476236411358, 0.46288779311683903, 2.7719949090115916, -0.1105557217271218, 1.6783419952083678], \"ext1_cam_extrinsics\": [0.0625700860308161, 0.7849934078474259, 0.41321386028430906, -1.620310649739649, 0.0378335771770526, -2.5025320852316324], \"ext2_cam_extrinsics\": [-0.08435779304506942, -0.4948429152974599, 0.48183883314683706, -1.583088257034475, -0.04749638364740649, -1.0785179926740802], \"wrist_svo_path\": \"success/2023-04-20/Thu_Apr_20_14:28:23_2023/recordings/SVO/16291792.svo\", \"wrist_mp4_path\": \"success/2023-04-20/Thu_Apr_20_14:28:23_2023/recordings/MP4/16291792.mp4\", \"ext1_svo_path\": \"success/2023-04-20/Thu_Apr_20_14:28:23_2023/recordings/SVO/22246076.svo\", \"ext1_mp4_path\": \"success/2023-04-20/Thu_Apr_20_14:28:23_2023/recordings/MP4/22246076.mp4\", \"ext2_svo_path\": \"success/2023-04-20/Thu_Apr_20_14:28:23_2023/recordings/SVO/26638268.svo\", \"ext2_mp4_path\": \"success/2023-04-20/Thu_Apr_20_14:28:23_2023/recordings/MP4/26638268.mp4\", \"left_mp4_path\": \"success/2023-04-20/Thu_Apr_20_14:28:23_2023/recordings/MP4/22246076.mp4\", \"right_mp4_path\": \"success/2023-04-20/Thu_Apr_20_14:28:23_2023/recordings/MP4/26638268.mp4\"}'''\n",
        "\n",
        "data = json.loads(json_data)\n",
        "\n",
        "videos_folder = 'videos'\n",
        "if not os.path.exists(videos_folder):\n",
        "    os.makedirs(videos_folder)\n",
        "\n",
        "video_mappings = {\n",
        "    data['wrist_mp4_path']: 'wrist_arm.mp4',\n",
        "    data['ext1_mp4_path']: 'ext1_arm.mp4',\n",
        "    data['ext2_mp4_path']: 'ext2_arm.mp4',\n",
        "    data['left_mp4_path']: 'left_arm.mp4',\n",
        "    data['right_mp4_path']: 'right_arm.mp4'\n",
        "}\n",
        "\n",
        "for url, new_filename in video_mappings.items():\n",
        "    gcs_url = f\"https://storage.googleapis.com/gresearch/robotics/droid_raw/1.0.1/GuptaLab/{url}\"\n",
        "    r = requests.get(gcs_url, stream=True)\n",
        "    download_path = os.path.join(videos_folder, new_filename)\n",
        "    with open(download_path, 'wb') as f:\n",
        "        for chunk in r.iter_content(chunk_size=1024):\n",
        "            if chunk:\n",
        "                f.write(chunk)\n",
        "    print(f\"Downloaded {new_filename} to {videos_folder}\")\n",
        "\n",
        "\n"
      ]
    },
    {
      "cell_type": "markdown",
      "source": [
        "---"
      ],
      "metadata": {
        "id": "uQU3m_FyVqMT"
      }
    },
    {
      "cell_type": "code",
      "source": [
        "!pip install tensorflow-datasets\n"
      ],
      "metadata": {
        "colab": {
          "base_uri": "https://localhost:8080/"
        },
        "id": "XPa2KizsVcx_",
        "outputId": "cd43b215-fae8-433f-be92-39e9a95098e4"
      },
      "execution_count": null,
      "outputs": [
        {
          "output_type": "stream",
          "name": "stdout",
          "text": [
            "Requirement already satisfied: tensorflow-datasets in /usr/local/lib/python3.10/dist-packages (4.9.7)\n",
            "Requirement already satisfied: absl-py in /usr/local/lib/python3.10/dist-packages (from tensorflow-datasets) (1.4.0)\n",
            "Requirement already satisfied: click in /usr/local/lib/python3.10/dist-packages (from tensorflow-datasets) (8.1.7)\n",
            "Requirement already satisfied: dm-tree in /usr/local/lib/python3.10/dist-packages (from tensorflow-datasets) (0.1.8)\n",
            "Requirement already satisfied: immutabledict in /usr/local/lib/python3.10/dist-packages (from tensorflow-datasets) (4.2.1)\n",
            "Requirement already satisfied: numpy in /usr/local/lib/python3.10/dist-packages (from tensorflow-datasets) (1.26.4)\n",
            "Requirement already satisfied: promise in /usr/local/lib/python3.10/dist-packages (from tensorflow-datasets) (2.3)\n",
            "Requirement already satisfied: protobuf>=3.20 in /usr/local/lib/python3.10/dist-packages (from tensorflow-datasets) (4.25.5)\n",
            "Requirement already satisfied: psutil in /usr/local/lib/python3.10/dist-packages (from tensorflow-datasets) (5.9.5)\n",
            "Requirement already satisfied: pyarrow in /usr/local/lib/python3.10/dist-packages (from tensorflow-datasets) (17.0.0)\n",
            "Requirement already satisfied: requests>=2.19.0 in /usr/local/lib/python3.10/dist-packages (from tensorflow-datasets) (2.32.3)\n",
            "Requirement already satisfied: simple-parsing in /usr/local/lib/python3.10/dist-packages (from tensorflow-datasets) (0.1.6)\n",
            "Requirement already satisfied: tensorflow-metadata in /usr/local/lib/python3.10/dist-packages (from tensorflow-datasets) (1.13.1)\n",
            "Requirement already satisfied: termcolor in /usr/local/lib/python3.10/dist-packages (from tensorflow-datasets) (2.5.0)\n",
            "Requirement already satisfied: toml in /usr/local/lib/python3.10/dist-packages (from tensorflow-datasets) (0.10.2)\n",
            "Requirement already satisfied: tqdm in /usr/local/lib/python3.10/dist-packages (from tensorflow-datasets) (4.67.1)\n",
            "Requirement already satisfied: wrapt in /usr/local/lib/python3.10/dist-packages (from tensorflow-datasets) (1.17.0)\n",
            "Requirement already satisfied: array-record>=0.5.0 in /usr/local/lib/python3.10/dist-packages (from tensorflow-datasets) (0.5.1)\n",
            "Requirement already satisfied: etils>=1.6.0 in /usr/local/lib/python3.10/dist-packages (from etils[edc,enp,epath,epy,etree]>=1.6.0; python_version < \"3.11\"->tensorflow-datasets) (1.11.0)\n",
            "Requirement already satisfied: fsspec in /usr/local/lib/python3.10/dist-packages (from etils[edc,enp,epath,epy,etree]>=1.6.0; python_version < \"3.11\"->tensorflow-datasets) (2024.10.0)\n",
            "Requirement already satisfied: importlib_resources in /usr/local/lib/python3.10/dist-packages (from etils[edc,enp,epath,epy,etree]>=1.6.0; python_version < \"3.11\"->tensorflow-datasets) (6.4.5)\n",
            "Requirement already satisfied: typing_extensions in /usr/local/lib/python3.10/dist-packages (from etils[edc,enp,epath,epy,etree]>=1.6.0; python_version < \"3.11\"->tensorflow-datasets) (4.12.2)\n",
            "Requirement already satisfied: zipp in /usr/local/lib/python3.10/dist-packages (from etils[edc,enp,epath,epy,etree]>=1.6.0; python_version < \"3.11\"->tensorflow-datasets) (3.21.0)\n",
            "Requirement already satisfied: charset-normalizer<4,>=2 in /usr/local/lib/python3.10/dist-packages (from requests>=2.19.0->tensorflow-datasets) (3.4.0)\n",
            "Requirement already satisfied: idna<4,>=2.5 in /usr/local/lib/python3.10/dist-packages (from requests>=2.19.0->tensorflow-datasets) (3.10)\n",
            "Requirement already satisfied: urllib3<3,>=1.21.1 in /usr/local/lib/python3.10/dist-packages (from requests>=2.19.0->tensorflow-datasets) (2.2.3)\n",
            "Requirement already satisfied: certifi>=2017.4.17 in /usr/local/lib/python3.10/dist-packages (from requests>=2.19.0->tensorflow-datasets) (2024.12.14)\n",
            "Requirement already satisfied: six in /usr/local/lib/python3.10/dist-packages (from promise->tensorflow-datasets) (1.17.0)\n",
            "Requirement already satisfied: docstring-parser<1.0,>=0.15 in /usr/local/lib/python3.10/dist-packages (from simple-parsing->tensorflow-datasets) (0.16)\n",
            "Requirement already satisfied: googleapis-common-protos<2,>=1.52.0 in /usr/local/lib/python3.10/dist-packages (from tensorflow-metadata->tensorflow-datasets) (1.66.0)\n"
          ]
        }
      ]
    },
    {
      "cell_type": "code",
      "execution_count": null,
      "metadata": {
        "id": "N7B2ziboZF5b"
      },
      "outputs": [],
      "source": [
        "import tensorflow_datasets as tfds\n",
        "ds = tfds.load(\"droid_100\", data_dir=\"gs://gresearch/robotics\", split=\"train\")"
      ]
    },
    {
      "cell_type": "code",
      "execution_count": null,
      "metadata": {
        "colab": {
          "base_uri": "https://localhost:8080/"
        },
        "id": "DWVpMnovJgOz",
        "outputId": "6d083ce8-75ec-4e2e-d8f5-44c28a209120"
      },
      "outputs": [
        {
          "output_type": "stream",
          "name": "stdout",
          "text": [
            "Episode Metadata:\n",
            "{'file_path': <tf.Tensor: shape=(), dtype=string, numpy=b'/nfs/kun2/datasets/r2d2/r2d2-data-full/RAIL/success/2023-04-17/Mon_Apr_17_14:48:05_2023/trajectory.h5'>, 'recording_folderpath': <tf.Tensor: shape=(), dtype=string, numpy=b'/nfs/kun2/datasets/r2d2/r2d2-data-full/RAIL/success/2023-04-17/Mon_Apr_17_14:48:05_2023/recordings/MP4'>}\n",
            "\n"
          ]
        }
      ],
      "source": [
        "for example in ds:\n",
        "    # Access the episode_metadata\n",
        "    episode_metadata = example['episode_metadata']\n",
        "\n",
        "    # Print the episode_metadata\n",
        "    print(\"Episode Metadata:\")\n",
        "    print(episode_metadata)\n",
        "    print()\n",
        "    break"
      ]
    },
    {
      "cell_type": "code",
      "source": [
        "import tensorflow_datasets as tfds\n",
        "import numpy as np\n",
        "from PIL import Image\n",
        "import os\n",
        "\n",
        "# Create a directory to save images\n",
        "output_dir = \"/content/extracted_images_2\"\n",
        "os.makedirs(output_dir, exist_ok=True)\n",
        "\n",
        "# Load the dataset\n",
        "ds = tfds.load(\"droid_100\", data_dir=\"gs://gresearch/robotics\", split=\"train\")\n",
        "\n",
        "# Iterate through the dataset and save only exterior_image_1_left\n",
        "for episode in ds.shuffle(10, seed=0).take(1):\n",
        "    for i, step in enumerate(episode[\"steps\"]):\n",
        "        # Get the exterior_image_1_left and convert it to a numpy array\n",
        "        image_array = step[\"observation\"][\"exterior_image_1_left\"].numpy()\n",
        "\n",
        "        # Convert the numpy array to a PIL image\n",
        "        image = Image.fromarray(image_array)\n",
        "\n",
        "        # Save the image as a PNG file\n",
        "        image.save(os.path.join(output_dir, f\"image_{i:04d}.png\"))\n",
        "\n",
        "print(f\"Images saved in '{output_dir}' directory.\")\n"
      ],
      "metadata": {
        "colab": {
          "base_uri": "https://localhost:8080/"
        },
        "id": "efV5yhbTXEO0",
        "outputId": "e11a3414-3a7f-45d6-8376-e4548707f657"
      },
      "execution_count": null,
      "outputs": [
        {
          "output_type": "stream",
          "name": "stdout",
          "text": [
            "Images saved in '/content/extracted_images_2' directory.\n"
          ]
        }
      ]
    },
    {
      "cell_type": "code",
      "source": [
        "import shutil\n",
        "\n",
        "# Path to the folder containing the images\n",
        "folder_to_zip = output_dir\n",
        "zip_filename = \"/content/extracted_images_2.zip\"\n",
        "\n",
        "# Create a zip file of the folder\n",
        "shutil.make_archive(zip_filename.replace(\".zip\", \"\"), 'zip', folder_to_zip)\n",
        "\n",
        "print(f\"Images zipped and saved as {zip_filename}.\")\n"
      ],
      "metadata": {
        "colab": {
          "base_uri": "https://localhost:8080/"
        },
        "id": "YYuKJLefYgwS",
        "outputId": "d15d77db-e3e3-42e1-bc1f-7490d5b8305f"
      },
      "execution_count": null,
      "outputs": [
        {
          "output_type": "stream",
          "name": "stdout",
          "text": [
            "Images zipped and saved as /content/extracted_images_2.zip.\n"
          ]
        }
      ]
    },
    {
      "cell_type": "markdown",
      "source": [
        "---\n"
      ],
      "metadata": {
        "id": "O9ls9s3vYl81"
      }
    },
    {
      "cell_type": "markdown",
      "metadata": {
        "id": "H-iEGVhvHF4D"
      },
      "source": []
    },
    {
      "cell_type": "code",
      "execution_count": null,
      "metadata": {
        "colab": {
          "base_uri": "https://localhost:8080/"
        },
        "id": "dnYBLWjiP-qZ",
        "outputId": "7f5d84c8-2335-429d-f0a1-b7ceb4ed6efe"
      },
      "outputs": [
        {
          "name": "stdout",
          "output_type": "stream",
          "text": [
            "Requirement already satisfied: h5py in /usr/local/lib/python3.10/dist-packages (3.9.0)\n",
            "Requirement already satisfied: numpy>=1.17.3 in /usr/local/lib/python3.10/dist-packages (from h5py) (1.25.2)\n"
          ]
        }
      ],
      "source": [
        "!pip install h5py\n"
      ]
    },
    {
      "cell_type": "code",
      "execution_count": null,
      "metadata": {
        "colab": {
          "base_uri": "https://localhost:8080/"
        },
        "id": "0mS9kC3URY3k",
        "outputId": "462a7f49-a187-48a8-8991-f03bb68eda99"
      },
      "outputs": [
        {
          "output_type": "stream",
          "name": "stdout",
          "text": [
            "Copying gs://gresearch/robotics/droid_raw/1.0.1/GuptaLab/success/2023-04-30/Sun_Apr_30_18:23:30_2023/trajectory.h5...\n",
            "/ [1/1 files][990.8 KiB/990.8 KiB] 100% Done                                    \n",
            "Operation completed over 1 objects/990.8 KiB.                                    \n"
          ]
        }
      ],
      "source": [
        "!gsutil -m cp -r gs://gresearch/robotics/droid_raw/1.0.1/GuptaLab/success/2023-04-30/Sun_Apr_30_18:23:30_2023/trajectory.h5 /content/"
      ]
    },
    {
      "cell_type": "code",
      "execution_count": null,
      "metadata": {
        "colab": {
          "base_uri": "https://localhost:8080/"
        },
        "collapsed": true,
        "id": "iaYa-x97QCX9",
        "outputId": "5b6a8e69-0f97-45f1-d7e7-5af878557e68"
      },
      "outputs": [
        {
          "output_type": "stream",
          "name": "stdout",
          "text": [
            "Contents of HDF5 file:\n",
            "action <HDF5 group \"/action\" (9 members)>\n",
            "action/cartesian_position <HDF5 dataset \"cartesian_position\": shape (140, 6), type \"<f8\">\n",
            "action/cartesian_velocity <HDF5 dataset \"cartesian_velocity\": shape (140, 6), type \"<f8\">\n",
            "action/gripper_position <HDF5 dataset \"gripper_position\": shape (140,), type \"<f8\">\n",
            "action/gripper_velocity <HDF5 dataset \"gripper_velocity\": shape (140,), type \"<f8\">\n",
            "action/joint_position <HDF5 dataset \"joint_position\": shape (140, 7), type \"<f8\">\n",
            "action/joint_velocity <HDF5 dataset \"joint_velocity\": shape (140, 7), type \"<f8\">\n",
            "action/robot_state <HDF5 group \"/action/robot_state\" (10 members)>\n",
            "action/robot_state/cartesian_position <HDF5 dataset \"cartesian_position\": shape (140, 6), type \"<f8\">\n",
            "action/robot_state/gripper_position <HDF5 dataset \"gripper_position\": shape (140,), type \"<f8\">\n",
            "action/robot_state/joint_positions <HDF5 dataset \"joint_positions\": shape (140, 7), type \"<f8\">\n",
            "action/robot_state/joint_torques_computed <HDF5 dataset \"joint_torques_computed\": shape (140, 7), type \"<f8\">\n",
            "action/robot_state/joint_velocities <HDF5 dataset \"joint_velocities\": shape (140, 7), type \"<f8\">\n",
            "action/robot_state/motor_torques_measured <HDF5 dataset \"motor_torques_measured\": shape (140, 7), type \"<f8\">\n",
            "action/robot_state/prev_command_successful <HDF5 dataset \"prev_command_successful\": shape (140,), type \"|b1\">\n",
            "action/robot_state/prev_controller_latency_ms <HDF5 dataset \"prev_controller_latency_ms\": shape (140,), type \"<f8\">\n",
            "action/robot_state/prev_joint_torques_computed <HDF5 dataset \"prev_joint_torques_computed\": shape (140, 7), type \"<f8\">\n",
            "action/robot_state/prev_joint_torques_computed_safened <HDF5 dataset \"prev_joint_torques_computed_safened\": shape (140, 7), type \"<f8\">\n",
            "action/target_cartesian_position <HDF5 dataset \"target_cartesian_position\": shape (140, 6), type \"<f8\">\n",
            "action/target_gripper_position <HDF5 dataset \"target_gripper_position\": shape (140,), type \"<f8\">\n",
            "observation <HDF5 group \"/observation\" (5 members)>\n",
            "observation/camera_extrinsics <HDF5 group \"/observation/camera_extrinsics\" (16 members)>\n",
            "observation/camera_extrinsics/16291792_left <HDF5 dataset \"16291792_left\": shape (140, 6), type \"<f8\">\n",
            "observation/camera_extrinsics/16291792_left_gripper_offset <HDF5 dataset \"16291792_left_gripper_offset\": shape (140, 6), type \"<f8\">\n",
            "observation/camera_extrinsics/16291792_right <HDF5 dataset \"16291792_right\": shape (140, 6), type \"<f8\">\n",
            "observation/camera_extrinsics/16291792_right_gripper_offset <HDF5 dataset \"16291792_right_gripper_offset\": shape (140, 6), type \"<f8\">\n",
            "observation/camera_extrinsics/19824535_left <HDF5 dataset \"19824535_left\": shape (140, 6), type \"<f8\">\n",
            "observation/camera_extrinsics/19824535_right <HDF5 dataset \"19824535_right\": shape (140, 6), type \"<f8\">\n",
            "observation/camera_extrinsics/22246076_left <HDF5 dataset \"22246076_left\": shape (140, 6), type \"<f8\">\n",
            "observation/camera_extrinsics/22246076_right <HDF5 dataset \"22246076_right\": shape (140, 6), type \"<f8\">\n",
            "observation/camera_extrinsics/23404442_left <HDF5 dataset \"23404442_left\": shape (140, 6), type \"<f8\">\n",
            "observation/camera_extrinsics/23404442_right <HDF5 dataset \"23404442_right\": shape (140, 6), type \"<f8\">\n",
            "observation/camera_extrinsics/26405488_left <HDF5 dataset \"26405488_left\": shape (140, 6), type \"<f8\">\n",
            "observation/camera_extrinsics/26405488_right <HDF5 dataset \"26405488_right\": shape (140, 6), type \"<f8\">\n",
            "observation/camera_extrinsics/26638268_left <HDF5 dataset \"26638268_left\": shape (140, 6), type \"<f8\">\n",
            "observation/camera_extrinsics/26638268_right <HDF5 dataset \"26638268_right\": shape (140, 6), type \"<f8\">\n",
            "observation/camera_extrinsics/29838012_left <HDF5 dataset \"29838012_left\": shape (140, 6), type \"<f8\">\n",
            "observation/camera_extrinsics/29838012_right <HDF5 dataset \"29838012_right\": shape (140, 6), type \"<f8\">\n",
            "observation/camera_type <HDF5 group \"/observation/camera_type\" (3 members)>\n",
            "observation/camera_type/16291792 <HDF5 dataset \"16291792\": shape (140,), type \"<i8\">\n",
            "observation/camera_type/22246076 <HDF5 dataset \"22246076\": shape (140,), type \"<i8\">\n",
            "observation/camera_type/26638268 <HDF5 dataset \"26638268\": shape (140,), type \"<i8\">\n",
            "observation/controller_info <HDF5 group \"/observation/controller_info\" (4 members)>\n",
            "observation/controller_info/controller_on <HDF5 dataset \"controller_on\": shape (140,), type \"|b1\">\n",
            "observation/controller_info/failure <HDF5 dataset \"failure\": shape (140,), type \"|b1\">\n",
            "observation/controller_info/movement_enabled <HDF5 dataset \"movement_enabled\": shape (140,), type \"|b1\">\n",
            "observation/controller_info/success <HDF5 dataset \"success\": shape (140,), type \"|b1\">\n",
            "observation/robot_state <HDF5 group \"/observation/robot_state\" (10 members)>\n",
            "observation/robot_state/cartesian_position <HDF5 dataset \"cartesian_position\": shape (140, 6), type \"<f8\">\n",
            "observation/robot_state/gripper_position <HDF5 dataset \"gripper_position\": shape (140,), type \"<f8\">\n",
            "observation/robot_state/joint_positions <HDF5 dataset \"joint_positions\": shape (140, 7), type \"<f8\">\n",
            "observation/robot_state/joint_torques_computed <HDF5 dataset \"joint_torques_computed\": shape (140, 7), type \"<f8\">\n",
            "observation/robot_state/joint_velocities <HDF5 dataset \"joint_velocities\": shape (140, 7), type \"<f8\">\n",
            "observation/robot_state/motor_torques_measured <HDF5 dataset \"motor_torques_measured\": shape (140, 7), type \"<f8\">\n",
            "observation/robot_state/prev_command_successful <HDF5 dataset \"prev_command_successful\": shape (140,), type \"|b1\">\n",
            "observation/robot_state/prev_controller_latency_ms <HDF5 dataset \"prev_controller_latency_ms\": shape (140,), type \"<f8\">\n",
            "observation/robot_state/prev_joint_torques_computed <HDF5 dataset \"prev_joint_torques_computed\": shape (140, 7), type \"<f8\">\n",
            "observation/robot_state/prev_joint_torques_computed_safened <HDF5 dataset \"prev_joint_torques_computed_safened\": shape (140, 7), type \"<f8\">\n",
            "observation/timestamp <HDF5 group \"/observation/timestamp\" (4 members)>\n",
            "observation/timestamp/cameras <HDF5 group \"/observation/timestamp/cameras\" (12 members)>\n",
            "observation/timestamp/cameras/16291792_estimated_capture <HDF5 dataset \"16291792_estimated_capture\": shape (140,), type \"<i8\">\n",
            "observation/timestamp/cameras/16291792_frame_received <HDF5 dataset \"16291792_frame_received\": shape (140,), type \"<i8\">\n",
            "observation/timestamp/cameras/16291792_read_end <HDF5 dataset \"16291792_read_end\": shape (140,), type \"<i8\">\n",
            "observation/timestamp/cameras/16291792_read_start <HDF5 dataset \"16291792_read_start\": shape (140,), type \"<i8\">\n",
            "observation/timestamp/cameras/22246076_estimated_capture <HDF5 dataset \"22246076_estimated_capture\": shape (140,), type \"<i8\">\n",
            "observation/timestamp/cameras/22246076_frame_received <HDF5 dataset \"22246076_frame_received\": shape (140,), type \"<i8\">\n",
            "observation/timestamp/cameras/22246076_read_end <HDF5 dataset \"22246076_read_end\": shape (140,), type \"<i8\">\n",
            "observation/timestamp/cameras/22246076_read_start <HDF5 dataset \"22246076_read_start\": shape (140,), type \"<i8\">\n",
            "observation/timestamp/cameras/26638268_estimated_capture <HDF5 dataset \"26638268_estimated_capture\": shape (140,), type \"<i8\">\n",
            "observation/timestamp/cameras/26638268_frame_received <HDF5 dataset \"26638268_frame_received\": shape (140,), type \"<i8\">\n",
            "observation/timestamp/cameras/26638268_read_end <HDF5 dataset \"26638268_read_end\": shape (140,), type \"<i8\">\n",
            "observation/timestamp/cameras/26638268_read_start <HDF5 dataset \"26638268_read_start\": shape (140,), type \"<i8\">\n",
            "observation/timestamp/control <HDF5 group \"/observation/timestamp/control\" (5 members)>\n",
            "observation/timestamp/control/control_start <HDF5 dataset \"control_start\": shape (140,), type \"<i8\">\n",
            "observation/timestamp/control/policy_start <HDF5 dataset \"policy_start\": shape (140,), type \"<i8\">\n",
            "observation/timestamp/control/sleep_start <HDF5 dataset \"sleep_start\": shape (140,), type \"<i8\">\n",
            "observation/timestamp/control/step_end <HDF5 dataset \"step_end\": shape (140,), type \"<i8\">\n",
            "observation/timestamp/control/step_start <HDF5 dataset \"step_start\": shape (140,), type \"<i8\">\n",
            "observation/timestamp/robot_state <HDF5 group \"/observation/timestamp/robot_state\" (4 members)>\n",
            "observation/timestamp/robot_state/read_end <HDF5 dataset \"read_end\": shape (140,), type \"<i8\">\n",
            "observation/timestamp/robot_state/read_start <HDF5 dataset \"read_start\": shape (140,), type \"<i8\">\n",
            "observation/timestamp/robot_state/robot_timestamp_nanos <HDF5 dataset \"robot_timestamp_nanos\": shape (140,), type \"<i8\">\n",
            "observation/timestamp/robot_state/robot_timestamp_seconds <HDF5 dataset \"robot_timestamp_seconds\": shape (140,), type \"<i8\">\n",
            "observation/timestamp/skip_action <HDF5 dataset \"skip_action\": shape (140,), type \"|b1\">\n"
          ]
        }
      ],
      "source": [
        "import h5py\n",
        "\n",
        "file_path = '/content/trajectory.h5'\n",
        "\n",
        "hdf5_file = h5py.File(file_path, 'r')\n",
        "\n",
        "def print_hdf5_contents(name, obj):\n",
        "    print(name, obj)\n",
        "\n",
        "print(\"Contents of HDF5 file:\")\n",
        "hdf5_file.visititems(print_hdf5_contents)\n",
        "\n",
        "# # # # 22246076 -> cam ID\n",
        "\n",
        "# cam_2246076 = hdf5_file['observation/camera_extrinsics/22246076_left']\n",
        "\n",
        "# # print(f\"HDF5 dataset 'camera 22256076': shape {cam_2246076.shape}, type {cam_2246076.dtype}\")\n",
        "\n",
        "# print(\"Camera Extrinsics data:\")\n",
        "# print(len(cam_2246076))\n"
      ]
    },
    {
      "cell_type": "markdown",
      "metadata": {
        "id": "cj_hmB-wsMfx"
      },
      "source": [
        "\n",
        "**Saving cartesian positions in a txt file**\n"
      ]
    },
    {
      "cell_type": "code",
      "execution_count": null,
      "metadata": {
        "collapsed": true,
        "id": "ttxHbP9aU-NH",
        "colab": {
          "base_uri": "https://localhost:8080/"
        },
        "outputId": "0941a2ef-8dbb-4e32-8575-268b37eff7f3"
      },
      "outputs": [
        {
          "output_type": "stream",
          "name": "stdout",
          "text": [
            "HDF5 dataset 'cartesian_position': shape (226, 6), type float64\n",
            "Cartesian position data:\n",
            "[[ 0.30208537 -0.10953411  0.46826899 -2.95463891  0.01949048  0.22504561]\n",
            " [ 0.30226141 -0.10981972  0.46957517 -2.9558794   0.01668902  0.22457779]\n",
            " [ 0.30217764 -0.10990722  0.47020161 -2.95642075  0.01504828  0.22440879]\n",
            " ...\n",
            " [ 0.42024055 -0.06298461  0.44569331  3.06055968 -0.43866336 -0.60407019]\n",
            " [ 0.42018235 -0.06321672  0.44565478  3.06050071 -0.43860399 -0.60532667]\n",
            " [ 0.42014733 -0.06337299  0.44563878  3.06062346 -0.43855235 -0.60632568]]\n",
            "Cartesian positions saved to cart_pos.txt\n"
          ]
        }
      ],
      "source": [
        "import h5py\n",
        "import numpy as np\n",
        "\n",
        "file_path = '/content/trajectory.h5'\n",
        "hdf5_file = h5py.File(file_path, 'r')\n",
        "\n",
        "cartesian_position = hdf5_file['action/cartesian_position']\n",
        "\n",
        "print(f\"HDF5 dataset 'cartesian_position': shape {cartesian_position.shape}, type {cartesian_position.dtype}\")\n",
        "\n",
        "print(\"Cartesian position data:\")\n",
        "print(cartesian_position[:])\n",
        "\n",
        "output_file = 'cart_pos.txt'\n",
        "np.savetxt(output_file, cartesian_position, fmt='%.6f', delimiter=', ')\n",
        "\n",
        "hdf5_file.close()\n",
        "\n",
        "print(f\"Cartesian positions saved to {output_file}\")\n"
      ]
    },
    {
      "cell_type": "code",
      "source": [
        "import h5py\n",
        "import numpy as np\n",
        "\n",
        "file_path = '/content/trajectory.h5'\n",
        "hdf5_file = h5py.File(file_path, 'r')\n",
        "\n",
        "cartesian_position = hdf5_file['action/joint_position']\n",
        "\n",
        "# print(f\"HDF5 dataset 'cartesian_position': shape {cartesian_position.shape}, type {cartesian_position.dtype}\")\n",
        "\n",
        "print(\"Cartesian position data:\")\n",
        "print(cartesian_position[:])\n",
        "\n",
        "output_file = 'joint_pos.txt'\n",
        "np.savetxt(output_file, cartesian_position, fmt='%.6f', delimiter=', ')\n",
        "\n",
        "hdf5_file.close()\n",
        "\n",
        "print(f\"Cartesian positions saved to {output_file}\")\n"
      ],
      "metadata": {
        "colab": {
          "base_uri": "https://localhost:8080/"
        },
        "id": "aYDZlSEyaAPw",
        "outputId": "88bc7cc5-21cc-4431-cc6e-aee985353db5"
      },
      "execution_count": null,
      "outputs": [
        {
          "output_type": "stream",
          "name": "stdout",
          "text": [
            "Cartesian position data:\n",
            "[[-5.39881010e-02 -4.77734066e-01  9.67529584e-02 -2.24699887e+00\n",
            "  -1.43608536e-01  1.62009636e+00  2.72758799e-01]\n",
            " [-5.39729986e-02 -4.77901685e-01  9.67750959e-02 -2.24697715e+00\n",
            "  -1.43625476e-01  1.62008939e+00  2.72760107e-01]\n",
            " [-5.39843068e-02 -4.78161079e-01  9.67825959e-02 -2.24695445e+00\n",
            "  -1.43636824e-01  1.62008902e+00  2.72762379e-01]\n",
            " [-5.39757926e-02 -4.78139073e-01  9.67912581e-02 -2.24696335e+00\n",
            "  -1.43646069e-01  1.62008850e+00  2.72759731e-01]\n",
            " [-5.39828036e-02 -4.78146683e-01  9.67859849e-02 -2.24696496e+00\n",
            "  -1.43650184e-01  1.62008687e+00  2.72762106e-01]\n",
            " [-5.39784506e-02 -4.78150066e-01  9.67980754e-02 -2.24696272e+00\n",
            "  -1.43655690e-01  1.62008892e+00  2.72763829e-01]\n",
            " [-5.39752040e-02 -4.78158640e-01  9.68018128e-02 -2.24696070e+00\n",
            "  -1.43660994e-01  1.62008882e+00  2.72768642e-01]\n",
            " [-5.39802909e-02 -4.78132375e-01  9.67963533e-02 -2.24696506e+00\n",
            "  -1.43666368e-01  1.62008758e+00  2.72763085e-01]\n",
            " [-5.39661255e-02 -4.78167234e-01  9.68137989e-02 -2.24696303e+00\n",
            "  -1.43666676e-01  1.62008489e+00  2.72768372e-01]\n",
            " [-5.39717060e-02 -4.78150901e-01  9.68128294e-02 -2.24696074e+00\n",
            "  -1.43672131e-01  1.62008723e+00  2.72765744e-01]\n",
            " [-5.39682414e-02 -4.78152990e-01  9.68159474e-02 -2.24695902e+00\n",
            "  -1.43676511e-01  1.62008934e+00  2.72770558e-01]\n",
            " [-5.39605152e-02 -4.78160773e-01  9.68274567e-02 -2.24696450e+00\n",
            "  -1.43675804e-01  1.62008785e+00  2.72768959e-01]\n",
            " [-5.39713986e-02 -4.78155972e-01  9.68199195e-02 -2.24696453e+00\n",
            "  -1.43676839e-01  1.62008855e+00  2.72771525e-01]\n",
            " [-5.57327447e-02 -4.69453880e-01  9.64022437e-02 -2.23970700e+00\n",
            "  -1.44661857e-01  1.61530531e+00  2.75655743e-01]\n",
            " [-5.59294857e-02 -4.63857584e-01  9.59119592e-02 -2.23503478e+00\n",
            "  -1.45828078e-01  1.61240274e+00  2.74723098e-01]\n",
            " [-5.77840395e-02 -4.54438688e-01  9.50184679e-02 -2.22686608e+00\n",
            "  -1.44340225e-01  1.61039696e+00  2.78927896e-01]\n",
            " [-5.89839946e-02 -4.45015557e-01  9.36540626e-02 -2.21901747e+00\n",
            "  -1.42126719e-01  1.61119308e+00  2.82267198e-01]\n",
            " [-6.18808181e-02 -4.33161926e-01  9.34258783e-02 -2.20722647e+00\n",
            "  -1.42820290e-01  1.61148467e+00  2.91333904e-01]\n",
            " [-6.29560999e-02 -4.24670596e-01  9.19027831e-02 -2.19959030e+00\n",
            "  -1.41469733e-01  1.61366755e+00  2.96276268e-01]\n",
            " [-6.50235144e-02 -4.09443710e-01  8.89782738e-02 -2.18266202e+00\n",
            "  -1.39021522e-01  1.61789408e+00  3.03404255e-01]\n",
            " [-6.66375384e-02 -3.96650095e-01  8.61855987e-02 -2.16882454e+00\n",
            "  -1.38305224e-01  1.62108258e+00  3.09322581e-01]\n",
            " [-6.68992475e-02 -3.79510649e-01  7.97848869e-02 -2.14953282e+00\n",
            "  -1.32690389e-01  1.62728104e+00  3.08279552e-01]\n",
            " [-6.74695242e-02 -3.62497915e-01  7.43397065e-02 -2.13185045e+00\n",
            "  -1.29156535e-01  1.63554074e+00  3.09833340e-01]\n",
            " [-6.64752880e-02 -3.42197441e-01  6.52623679e-02 -2.11092538e+00\n",
            "  -1.19144954e-01  1.65019658e+00  3.03162470e-01]\n",
            " [-6.62386203e-02 -3.23630743e-01  5.90904467e-02 -2.09357264e+00\n",
            "  -1.15227299e-01  1.66080714e+00  3.00130340e-01]\n",
            " [-6.73953446e-02 -2.98969291e-01  5.40610049e-02 -2.06978567e+00\n",
            "  -1.15288895e-01  1.66934668e+00  3.01792160e-01]\n",
            " [-6.74707762e-02 -2.72988126e-01  4.86454386e-02 -2.04543687e+00\n",
            "  -1.14842432e-01  1.67496548e+00  3.00174618e-01]\n",
            " [-6.72857650e-02 -2.46135846e-01  4.37557809e-02 -2.02054441e+00\n",
            "  -1.14332445e-01  1.67909791e+00  2.99291384e-01]\n",
            " [-6.67576422e-02 -2.18664803e-01  3.84898130e-02 -1.99512299e+00\n",
            "  -1.12333894e-01  1.68159804e+00  2.98282709e-01]\n",
            " [-6.59082388e-02 -1.89846538e-01  3.33940387e-02 -1.96810871e+00\n",
            "  -1.08480364e-01  1.68123550e+00  2.97163140e-01]\n",
            " [-6.43178709e-02 -1.62365690e-01  2.79037710e-02 -1.94131503e+00\n",
            "  -1.00330120e-01  1.68074144e+00  2.93050150e-01]\n",
            " [-6.36122278e-02 -1.30088009e-01  2.27314662e-02 -1.90989508e+00\n",
            "  -9.16154273e-02  1.67555772e+00  2.90810966e-01]\n",
            " [-6.24449719e-02 -1.04260273e-01  1.79628804e-02 -1.88398096e+00\n",
            "  -8.17788653e-02  1.67163863e+00  2.86941150e-01]\n",
            " [-6.13479400e-02 -7.22291619e-02  1.16149224e-02 -1.85392880e+00\n",
            "  -6.46929666e-02  1.66632001e+00  2.76569543e-01]\n",
            " [-6.10602461e-02 -4.73750383e-02  7.48942979e-03 -1.83181781e+00\n",
            "  -5.37789017e-02  1.66570927e+00  2.74408238e-01]\n",
            " [-6.04774170e-02 -2.00723931e-02  1.75776705e-03 -1.80727941e+00\n",
            "  -3.10642421e-02  1.66451924e+00  2.60575669e-01]\n",
            " [-6.06237082e-02  7.11011142e-03 -2.49972194e-03 -1.78328685e+00\n",
            "  -1.23115405e-02  1.66180473e+00  2.50959262e-01]\n",
            " [-6.13887217e-02  3.44117060e-02 -6.97566010e-03 -1.75955327e+00\n",
            "   7.78997317e-03  1.65662032e+00  2.40195155e-01]\n",
            " [-6.23429804e-02  5.73445819e-02 -1.04651656e-02 -1.74160469e+00\n",
            "   2.06791423e-02  1.65348310e+00  2.34533597e-01]\n",
            " [-6.39746208e-02  8.32989179e-02 -1.47995502e-02 -1.72222798e+00\n",
            "   3.45693361e-02  1.64811296e+00  2.27163963e-01]\n",
            " [-6.58903262e-02  1.06893921e-01 -1.91265321e-02 -1.70678307e+00\n",
            "   4.79504013e-02  1.64203101e+00  2.20427591e-01]\n",
            " [-6.83601778e-02  1.30107243e-01 -2.39821761e-02 -1.69445341e+00\n",
            "   6.00512661e-02  1.63422721e+00  2.14439191e-01]\n",
            " [-7.02327704e-02  1.48856781e-01 -2.81807766e-02 -1.68421539e+00\n",
            "   7.20403623e-02  1.62719317e+00  2.07767002e-01]\n",
            " [-7.23899038e-02  1.67209685e-01 -3.28147318e-02 -1.68011936e+00\n",
            "   8.27377997e-02  1.62254864e+00  2.00941466e-01]\n",
            " [-7.37985694e-02  1.85891800e-01 -3.74256913e-02 -1.67263544e+00\n",
            "   9.05539058e-02  1.61604664e+00  1.96094546e-01]\n",
            " [-7.44397657e-02  2.02005118e-01 -4.10190169e-02 -1.66956933e+00\n",
            "   9.54414494e-02  1.61014710e+00  1.91731978e-01]\n",
            " [-7.50911282e-02  2.17195831e-01 -4.44861166e-02 -1.66614308e+00\n",
            "   9.91207138e-02  1.60509044e+00  1.89277474e-01]\n",
            " [-7.56211153e-02  2.33636368e-01 -4.78714146e-02 -1.66136135e+00\n",
            "   1.01107465e-01  1.59762166e+00  1.87727181e-01]\n",
            " [-7.61001422e-02  2.47840494e-01 -5.03534479e-02 -1.65599470e+00\n",
            "   1.03700450e-01  1.59146300e+00  1.86547019e-01]\n",
            " [-7.67511218e-02  2.60475103e-01 -5.25951125e-02 -1.65374780e+00\n",
            "   1.04803160e-01  1.58732630e+00  1.84640642e-01]\n",
            " [-7.74520934e-02  2.72476990e-01 -5.45365103e-02 -1.64994241e+00\n",
            "   1.06950771e-01  1.58322917e+00  1.84070993e-01]\n",
            " [-7.73730695e-02  2.81906180e-01 -5.60469003e-02 -1.64811654e+00\n",
            "   1.06075956e-01  1.58179644e+00  1.86198089e-01]\n",
            " [-7.77040145e-02  2.90589664e-01 -5.67276524e-02 -1.64399063e+00\n",
            "   1.06539037e-01  1.57995547e+00  1.87292445e-01]\n",
            " [-7.78107296e-02  2.97411554e-01 -5.70138469e-02 -1.64134900e+00\n",
            "   1.06995558e-01  1.57981627e+00  1.86418707e-01]\n",
            " [-7.78198631e-02  3.03332675e-01 -5.71993007e-02 -1.63765453e+00\n",
            "   1.08136432e-01  1.57831709e+00  1.85268253e-01]\n",
            " [-7.79431097e-02  3.09564428e-01 -5.70119470e-02 -1.63217090e+00\n",
            "   1.10440439e-01  1.57629178e+00  1.83679601e-01]\n",
            " [-7.81045083e-02  3.14327536e-01 -5.68856145e-02 -1.62880111e+00\n",
            "   1.11863941e-01  1.57437022e+00  1.82925211e-01]\n",
            " [-7.84687398e-02  3.19883615e-01 -5.66423913e-02 -1.62244260e+00\n",
            "   1.14005964e-01  1.57056388e+00  1.82157997e-01]\n",
            " [-7.85722034e-02  3.23438723e-01 -5.63820777e-02 -1.61753301e+00\n",
            "   1.15521219e-01  1.56598251e+00  1.81209877e-01]\n",
            " [-7.90292511e-02  3.26954864e-01 -5.62326172e-02 -1.61370513e+00\n",
            "   1.17849285e-01  1.56434266e+00  1.80120554e-01]\n",
            " [-7.96211530e-02  3.30064585e-01 -5.60739459e-02 -1.61041472e+00\n",
            "   1.20789969e-01  1.56336429e+00  1.78933043e-01]\n",
            " [-8.02214318e-02  3.31696395e-01 -5.58949825e-02 -1.60930616e+00\n",
            "   1.24433873e-01  1.56370636e+00  1.77760575e-01]\n",
            " [-8.14154884e-02  3.34259789e-01 -5.59478691e-02 -1.60681432e+00\n",
            "   1.29109431e-01  1.56419686e+00  1.75875816e-01]\n",
            " [-8.23873454e-02  3.36772857e-01 -5.60569451e-02 -1.60377340e+00\n",
            "   1.33896552e-01  1.56452088e+00  1.74206648e-01]\n",
            " [-8.33011605e-02  3.39428633e-01 -5.60452174e-02 -1.60021276e+00\n",
            "   1.38979385e-01  1.56410696e+00  1.72301540e-01]\n",
            " [-8.44107023e-02  3.41940872e-01 -5.62888198e-02 -1.59884038e+00\n",
            "   1.43762784e-01  1.56583747e+00  1.70855822e-01]\n",
            " [-8.55521522e-02  3.44372833e-01 -5.62447924e-02 -1.59600263e+00\n",
            "   1.47703383e-01  1.56533174e+00  1.69472024e-01]\n",
            " [-8.69511333e-02  3.46031357e-01 -5.62261520e-02 -1.59389791e+00\n",
            "   1.52151005e-01  1.56496815e+00  1.67857906e-01]\n",
            " [-8.82102312e-02  3.47484535e-01 -5.60100353e-02 -1.59038590e+00\n",
            "   1.57694321e-01  1.56281091e+00  1.67144019e-01]\n",
            " [-8.78275423e-02  3.46340418e-01 -5.59099196e-02 -1.58775995e+00\n",
            "   1.60299100e-01  1.55883076e+00  1.71496965e-01]\n",
            " [-8.37752050e-02  3.41811355e-01 -5.62414476e-02 -1.58374486e+00\n",
            "   1.55998833e-01  1.54793341e+00  1.84477351e-01]\n",
            " [-7.68906185e-02  3.28108919e-01 -5.47991127e-02 -1.58600837e+00\n",
            "   1.47757959e-01  1.54496050e+00  1.93234727e-01]\n",
            " [-6.84284046e-02  3.16434233e-01 -5.40996105e-02 -1.58438680e+00\n",
            "   1.35125489e-01  1.54047196e+00  2.04546641e-01]\n",
            " [-5.76557592e-02  3.00157223e-01 -5.04210048e-02 -1.57925934e+00\n",
            "   1.25212894e-01  1.53554573e+00  2.11045822e-01]\n",
            " [-4.61409446e-02  2.87761103e-01 -4.77508663e-02 -1.57171825e+00\n",
            "   1.13136858e-01  1.52719999e+00  2.20587317e-01]\n",
            " [-2.72560753e-02  2.69560482e-01 -4.28590388e-02 -1.56279525e+00\n",
            "   9.05984417e-02  1.51777779e+00  2.34517451e-01]\n",
            " [-1.10098124e-02  2.52491154e-01 -3.79787954e-02 -1.55604869e+00\n",
            "   7.14788847e-02  1.50942108e+00  2.43337065e-01]\n",
            " [ 1.05118379e-02  2.34644823e-01 -3.13504906e-02 -1.54702141e+00\n",
            "   4.19351608e-02  1.49872361e+00  2.58566290e-01]\n",
            " [ 2.88562831e-02  2.12008618e-01 -2.38722824e-02 -1.54465435e+00\n",
            "   2.03192011e-02  1.48811175e+00  2.67667647e-01]\n",
            " [ 5.13355050e-02  1.94540001e-01 -1.41948871e-02 -1.53919683e+00\n",
            "  -7.17897713e-03  1.47954660e+00  2.83834849e-01]\n",
            " [ 7.11948667e-02  1.73066251e-01 -3.73709947e-03 -1.54537088e+00\n",
            "  -3.15613188e-02  1.47680676e+00  2.93138351e-01]\n",
            " [ 9.52199921e-02  1.55204121e-01  1.00434422e-02 -1.55092106e+00\n",
            "  -6.46292595e-02  1.47456864e+00  3.09396043e-01]\n",
            " [ 1.14501934e-01  1.38688486e-01  2.43179323e-02 -1.55897511e+00\n",
            "  -9.32907239e-02  1.47115790e+00  3.21391620e-01]\n",
            " [ 1.37725085e-01  1.24017887e-01  4.20008576e-02 -1.57000908e+00\n",
            "  -1.25680625e-01  1.46526473e+00  3.41542233e-01]\n",
            " [ 1.58821654e-01  1.12155966e-01  5.96722029e-02 -1.58317155e+00\n",
            "  -1.60433769e-01  1.46479198e+00  3.60525358e-01]\n",
            " [ 1.79453537e-01  1.12664972e-01  7.71644488e-02 -1.59263863e+00\n",
            "  -1.94820315e-01  1.46576159e+00  3.85706030e-01]\n",
            " [ 1.99940659e-01  1.03055973e-01  9.46358666e-02 -1.60733616e+00\n",
            "  -2.28283681e-01  1.46470705e+00  4.17018265e-01]\n",
            " [ 2.19208520e-01  1.13609269e-01  1.10437546e-01 -1.61372288e+00\n",
            "  -2.56221093e-01  1.46306676e+00  4.60333362e-01]\n",
            " [ 2.39409704e-01  1.21682511e-01  1.25846330e-01 -1.62028416e+00\n",
            "  -2.81875484e-01  1.45752292e+00  5.11536546e-01]\n",
            " [ 2.59472910e-01  1.23585468e-01  1.41034879e-01 -1.63228326e+00\n",
            "  -3.02516855e-01  1.45143221e+00  5.58944859e-01]\n",
            " [ 2.76680294e-01  1.37273124e-01  1.53431367e-01 -1.63727887e+00\n",
            "  -3.19262534e-01  1.44303689e+00  6.09071933e-01]\n",
            " [ 2.99625296e-01  1.47006296e-01  1.68632179e-01 -1.64670897e+00\n",
            "  -3.36975385e-01  1.43386050e+00  6.65897891e-01]\n",
            " [ 3.21088403e-01  1.62057754e-01  1.81446731e-01 -1.65405398e+00\n",
            "  -3.67705055e-01  1.42694908e+00  7.29025140e-01]\n",
            " [ 3.41999311e-01  1.87689502e-01  1.91812284e-01 -1.65456903e+00\n",
            "  -3.93877566e-01  1.41225033e+00  7.95231834e-01]\n",
            " [ 3.63774542e-01  1.98011827e-01  2.02971455e-01 -1.66208922e+00\n",
            "  -4.16849181e-01  1.39627766e+00  8.57458770e-01]\n",
            " [ 3.88502888e-01  2.20000550e-01  2.11733541e-01 -1.66253326e+00\n",
            "  -4.47087228e-01  1.37842267e+00  9.26232100e-01]\n",
            " [ 4.11480203e-01  2.35921465e-01  2.19445234e-01 -1.66580550e+00\n",
            "  -4.75400612e-01  1.35743899e+00  9.86877188e-01]\n",
            " [ 4.32434808e-01  2.59499785e-01  2.23696979e-01 -1.66400819e+00\n",
            "  -5.01230679e-01  1.33668914e+00  1.04364185e+00]\n",
            " [ 4.53826286e-01  2.78539300e-01  2.27293925e-01 -1.66440521e+00\n",
            "  -5.26287191e-01  1.31193222e+00  1.09856905e+00]\n",
            " [ 4.73400004e-01  2.98254337e-01  2.29749166e-01 -1.66707102e+00\n",
            "  -5.53761192e-01  1.28849460e+00  1.14764498e+00]\n",
            " [ 4.93849985e-01  3.15313529e-01  2.31767179e-01 -1.66412493e+00\n",
            "  -5.75909391e-01  1.25568510e+00  1.19542481e+00]\n",
            " [ 5.13131671e-01  3.35355226e-01  2.32348062e-01 -1.65733160e+00\n",
            "  -6.00565068e-01  1.22178286e+00  1.23876218e+00]\n",
            " [ 5.30365542e-01  3.53258897e-01  2.33605017e-01 -1.64954310e+00\n",
            "  -6.20320357e-01  1.18169861e+00  1.28116620e+00]\n",
            " [ 5.46334926e-01  3.71148501e-01  2.34040020e-01 -1.63826999e+00\n",
            "  -6.39692266e-01  1.14224109e+00  1.32289963e+00]\n",
            " [ 5.61773412e-01  3.90669126e-01  2.34139109e-01 -1.62352919e+00\n",
            "  -6.57481305e-01  1.09784313e+00  1.36219746e+00]\n",
            " [ 5.78492187e-01  4.09356866e-01  2.32708548e-01 -1.60988661e+00\n",
            "  -6.78387906e-01  1.05618740e+00  1.39861684e+00]\n",
            " [ 5.96686915e-01  4.24923275e-01  2.31469899e-01 -1.58984450e+00\n",
            "  -6.93942856e-01  1.00311647e+00  1.43202135e+00]\n",
            " [ 6.13215581e-01  4.44036849e-01  2.30022611e-01 -1.56936851e+00\n",
            "  -7.09096588e-01  9.54815462e-01  1.46046422e+00]\n",
            " [ 6.27639219e-01  4.62782357e-01  2.29100154e-01 -1.54770071e+00\n",
            "  -7.20342197e-01  9.11157310e-01  1.48293063e+00]\n",
            " [ 6.44914214e-01  4.85254221e-01  2.27470173e-01 -1.52121408e+00\n",
            "  -7.37151608e-01  8.65707487e-01  1.50278291e+00]\n",
            " [ 6.62176128e-01  5.04659124e-01  2.26593793e-01 -1.49753053e+00\n",
            "  -7.52071783e-01  8.24720055e-01  1.51725294e+00]\n",
            " [ 6.78596504e-01  5.28564170e-01  2.24227074e-01 -1.47109091e+00\n",
            "  -7.68021934e-01  7.86609955e-01  1.52940366e+00]\n",
            " [ 6.92677416e-01  5.48904181e-01  2.21706778e-01 -1.44750611e+00\n",
            "  -7.82447901e-01  7.53495738e-01  1.53504579e+00]\n",
            " [ 7.06270944e-01  5.74392624e-01  2.16979544e-01 -1.42370856e+00\n",
            "  -7.99908713e-01  7.22857557e-01  1.54087126e+00]\n",
            " [ 7.20305499e-01  5.90642162e-01  2.15019760e-01 -1.40402339e+00\n",
            "  -8.14960718e-01  6.93979651e-01  1.54145370e+00]\n",
            " [ 7.31537152e-01  6.16253473e-01  2.09702874e-01 -1.38166600e+00\n",
            "  -8.33624769e-01  6.69482395e-01  1.54054477e+00]\n",
            " [ 7.41761748e-01  6.35266595e-01  2.07299400e-01 -1.36239431e+00\n",
            "  -8.48488990e-01  6.47029549e-01  1.53483460e+00]\n",
            " [ 7.50580240e-01  6.57821231e-01  2.02380115e-01 -1.34244831e+00\n",
            "  -8.66575394e-01  6.27610303e-01  1.53065753e+00]\n",
            " [ 7.58357067e-01  6.77737787e-01  1.98157527e-01 -1.32398576e+00\n",
            "  -8.81994724e-01  6.09423324e-01  1.52659926e+00]\n",
            " [ 7.65264586e-01  6.98981956e-01  1.92893161e-01 -1.30590545e+00\n",
            "  -8.98144744e-01  5.92358746e-01  1.52383299e+00]\n",
            " [ 7.71807963e-01  7.18114369e-01  1.88811067e-01 -1.28987557e+00\n",
            "  -9.13234219e-01  5.75997286e-01  1.52167306e+00]\n",
            " [ 7.73865815e-01  7.32483394e-01  1.83592230e-01 -1.28069814e+00\n",
            "  -9.29565813e-01  5.64266913e-01  1.51709327e+00]\n",
            " [ 7.74185002e-01  7.41028413e-01  1.77958110e-01 -1.27482305e+00\n",
            "  -9.47252087e-01  5.52899115e-01  1.51212864e+00]\n",
            " [ 7.75100850e-01  7.51502384e-01  1.74387375e-01 -1.26663291e+00\n",
            "  -9.60125621e-01  5.40698592e-01  1.50729971e+00]\n",
            " [ 7.74954734e-01  7.63331562e-01  1.70121228e-01 -1.25658911e+00\n",
            "  -9.73735631e-01  5.29452465e-01  1.50390461e+00]\n",
            " [ 7.73381823e-01  7.72192750e-01  1.67162092e-01 -1.24919065e+00\n",
            "  -9.82818075e-01  5.19467257e-01  1.50052006e+00]\n",
            " [ 7.73017678e-01  7.80847754e-01  1.65058263e-01 -1.24058857e+00\n",
            "  -9.91415281e-01  5.09345178e-01  1.49710794e+00]\n",
            " [ 7.72735008e-01  7.88479850e-01  1.63225456e-01 -1.23338649e+00\n",
            "  -9.99853190e-01  5.00617079e-01  1.49206303e+00]\n",
            " [ 7.72004721e-01  7.94872042e-01  1.62032984e-01 -1.22590660e+00\n",
            "  -1.00723791e+00  4.92947783e-01  1.48604117e+00]\n",
            " [ 7.72489196e-01  8.00363936e-01  1.60933680e-01 -1.21998853e+00\n",
            "  -1.01445048e+00  4.86244619e-01  1.48247222e+00]\n",
            " [ 7.73112914e-01  8.06095339e-01  1.59062513e-01 -1.21406791e+00\n",
            "  -1.02248872e+00  4.80162524e-01  1.48025216e+00]\n",
            " [ 7.73581159e-01  8.10356215e-01  1.57686381e-01 -1.21019329e+00\n",
            "  -1.02929441e+00  4.74008355e-01  1.47882410e+00]\n",
            " [ 7.75427666e-01  8.13583523e-01  1.55483333e-01 -1.20562535e+00\n",
            "  -1.03933251e+00  4.64853905e-01  1.47695316e+00]\n",
            " [ 7.78263461e-01  8.17767741e-01  1.51021797e-01 -1.20386148e+00\n",
            "  -1.05383159e+00  4.56945609e-01  1.48258420e+00]\n",
            " [ 7.82276534e-01  8.26322321e-01  1.48977302e-01 -1.19582746e+00\n",
            "  -1.06257515e+00  4.48161285e-01  1.48774926e+00]\n",
            " [ 7.81396125e-01  8.30879174e-01  1.48817642e-01 -1.19018953e+00\n",
            "  -1.06794319e+00  4.43400450e-01  1.48404365e+00]\n",
            " [ 7.81691225e-01  8.34593829e-01  1.48719804e-01 -1.18501595e+00\n",
            "  -1.07193825e+00  4.39300362e-01  1.48120141e+00]\n",
            " [ 7.81911145e-01  8.37440141e-01  1.50387687e-01 -1.17916989e+00\n",
            "  -1.07158591e+00  4.35953356e-01  1.47693283e+00]\n",
            " [ 7.78567396e-01  8.37802002e-01  1.50600551e-01 -1.17571366e+00\n",
            "  -1.07089931e+00  4.33908366e-01  1.47126058e+00]\n",
            " [ 7.75778640e-01  8.41014132e-01  1.52205884e-01 -1.16875768e+00\n",
            "  -1.06449631e+00  4.31787129e-01  1.46382371e+00]]\n",
            "Cartesian positions saved to joint_pos.txt\n"
          ]
        }
      ]
    },
    {
      "cell_type": "code",
      "source": [
        "\n",
        "import h5py\n",
        "import numpy as np\n",
        "\n",
        "file_path = '/content/trajectory.h5'\n",
        "hdf5_file = h5py.File(file_path, 'r')\n",
        "\n",
        "cartesian_position = hdf5_file['action/gripper_position']\n",
        "\n",
        "# print(f\"HDF5 dataset 'cartesian_position': shape {cartesian_position.shape}, type {cartesian_position.dtype}\")\n",
        "\n",
        "print(\"Cartesian position data:\")\n",
        "print(cartesian_position[:])\n",
        "\n",
        "# output_file = 'joint_pos.txt'\n",
        "# np.savetxt(output_file, cartesian_position, fmt='%.6f', delimiter=', ')\n",
        "\n",
        "# hdf5_file.close()\n",
        "\n",
        "# print(f\"Cartesian positions saved to {output_file}\")\n"
      ],
      "metadata": {
        "colab": {
          "base_uri": "https://localhost:8080/"
        },
        "id": "wUWf_a5iaOkb",
        "outputId": "a495d5a0-eb67-4620-f678-af6eef5f332b"
      },
      "execution_count": null,
      "outputs": [
        {
          "output_type": "stream",
          "name": "stdout",
          "text": [
            "Cartesian position data:\n",
            "[0.         0.         0.         0.         0.         0.\n",
            " 0.         0.         0.         0.         0.         0.\n",
            " 0.         0.         0.         0.         0.         0.\n",
            " 0.         0.         0.         0.         0.         0.\n",
            " 0.         0.         0.         0.         0.         0.\n",
            " 0.         0.         0.         0.         0.         0.\n",
            " 0.         0.         0.         0.         0.         0.\n",
            " 0.         0.         0.         0.         0.         0.\n",
            " 0.         0.         0.         0.         0.         0.\n",
            " 0.         0.         0.         0.         0.         0.\n",
            " 0.         0.         0.         0.         0.         0.\n",
            " 0.         0.         0.         0.         0.         0.\n",
            " 0.         0.         0.         0.         0.         0.\n",
            " 0.         0.         0.         0.         0.         0.\n",
            " 0.03608025 0.19197009 0.28083699 0.30286345 0.37334804 0.47466963\n",
            " 0.54955949 0.62885461 0.69493394 0.75660792 0.83590309 0.8931718\n",
            " 0.9636564  0.9900881  0.94823789 0.98127753 0.9944934  1.\n",
            " 0.99229075 0.98678414 0.98788546 0.9845815  0.9845815  0.98898678\n",
            " 0.98568282 0.98568282 0.98568282 0.98568282 0.98568282 0.98568282\n",
            " 0.98568282 0.98568282 0.98568282 0.98568282 0.98568282 0.98568282\n",
            " 0.98568282 0.98568282 0.98568282 0.98568282 0.98568282 0.98568282\n",
            " 0.98568282 0.98568282 0.98568282 0.98568282 0.98568282 0.98568282\n",
            " 0.98568282 0.98568282 0.98568282 0.98568282 0.98568282 0.98568282\n",
            " 0.98568282 0.98568282 0.98568282 0.98568282 0.98568282 0.98568282\n",
            " 0.98568282 0.98568282 0.98568282 0.98568282 0.98568282 0.98568282\n",
            " 0.98568282 0.98568282 0.98568282 0.98568282 0.98568282 0.98568282\n",
            " 0.98568282 0.98568282 0.98568282 0.98568282 0.98568282 0.98568282\n",
            " 0.98568282 0.98568282 0.98568282 0.98568282 0.98568282 0.98568282\n",
            " 0.98568282 0.98568282 0.98568282 0.98568282 0.98568282 0.98568282\n",
            " 0.98568282 0.98568282 0.98568282 0.98568282 0.98568282 0.98568282\n",
            " 0.98568282 0.98568282 0.98568282 0.98568282 0.98568282 0.98568282\n",
            " 0.98568282 0.98568282 0.89502357 0.67511013 0.64867842 0.63546255\n",
            " 0.57819383 0.50770925 0.41960352 0.34911893 0.26101323 0.19493394\n",
            " 0.12444935 0.04074891 0.00660794 0.         0.         0.\n",
            " 0.         0.         0.         0.         0.         0.\n",
            " 0.         0.         0.         0.         0.         0.\n",
            " 0.         0.         0.         0.         0.         0.\n",
            " 0.         0.         0.         0.        ]\n"
          ]
        }
      ]
    },
    {
      "cell_type": "markdown",
      "metadata": {
        "id": "7H_zvzipsaI7"
      },
      "source": [
        "**Getting the camera extrinsics**"
      ]
    },
    {
      "cell_type": "code",
      "source": [
        "print(len(cam_2246076))\n",
        "print(cartesian_position.shape[0])"
      ],
      "metadata": {
        "colab": {
          "base_uri": "https://localhost:8080/"
        },
        "id": "R39eOAEvbGFA",
        "outputId": "1360c749-b697-4346-b3f4-b6594216156d"
      },
      "execution_count": null,
      "outputs": [
        {
          "output_type": "stream",
          "name": "stdout",
          "text": [
            "96\n",
            "96\n"
          ]
        }
      ]
    },
    {
      "cell_type": "code",
      "execution_count": null,
      "metadata": {
        "colab": {
          "base_uri": "https://localhost:8080/"
        },
        "id": "QxUxjF-VWSe4",
        "outputId": "1b9625cd-2bd3-4d7a-c5bc-f1e949982c7d"
      },
      "outputs": [
        {
          "output_type": "stream",
          "name": "stdout",
          "text": [
            "HDF5 dataset 'observation/camera_extrinsics/19824535_left': shape (140, 6), type float64\n",
            "Data:\n",
            "[[-0.07176023  0.03024986  0.02164358 -0.3201233   0.01153831 -1.55427397]]\n",
            "HDF5 dataset 'observation/camera_extrinsics/19824535_right': shape (140, 6), type float64\n",
            "Data:\n",
            "[[-0.07209364 -0.03281814  0.01799876 -0.32436696  0.00983603 -1.55377928]]\n",
            "HDF5 dataset 'observation/camera_extrinsics/22246076_left': shape (140, 6), type float64\n",
            "Data:\n",
            "[[ 0.06257009  0.78499341  0.41321386 -1.62031065  0.03783358 -2.50253209]]\n",
            "HDF5 dataset 'observation/camera_extrinsics/22246076_right': shape (140, 6), type float64\n",
            "Data:\n",
            "[[-0.03345576  0.71726764  0.40275558 -1.60782832  0.0319634  -2.4994542 ]]\n",
            "HDF5 dataset 'observation/camera_extrinsics/23404442_left': shape (140, 6), type float64\n",
            "Data:\n",
            "[[ 0.27212357 -0.56289947  0.57829605 -2.04916225 -0.00867735 -0.46446894]]\n",
            "HDF5 dataset 'observation/camera_extrinsics/23404442_right': shape (140, 6), type float64\n",
            "Data:\n",
            "[[ 0.3819312  -0.61567944  0.5789578  -2.04867765 -0.01110392 -0.46396051]]\n"
          ]
        }
      ],
      "source": [
        "import h5py\n",
        "\n",
        "\n",
        "file_path = '/content/trajectory.h5'\n",
        "\n",
        "hdf5_file = h5py.File(file_path, 'r')\n",
        "\n",
        "dataset_paths = [\n",
        "    'observation/camera_extrinsics/19824535_left',\n",
        "    'observation/camera_extrinsics/19824535_right',\n",
        "    'observation/camera_extrinsics/22246076_left',\n",
        "    'observation/camera_extrinsics/22246076_right',\n",
        "    'observation/camera_extrinsics/23404442_left',\n",
        "    'observation/camera_extrinsics/23404442_right'\n",
        "]\n",
        "\n",
        "for dataset_path in dataset_paths:\n",
        "    dataset = hdf5_file[dataset_path]\n",
        "    print(f\"HDF5 dataset '{dataset_path}': shape {dataset.shape}, type {dataset.dtype}\")\n",
        "    print(\"Data:\")\n",
        "    print(dataset[:1])\n",
        "\n",
        "hdf5_file.close()\n"
      ]
    },
    {
      "cell_type": "code",
      "source": [
        "import os\n",
        "import h5py\n",
        "from PIL import Image\n",
        "\n",
        "# Path to the HDF5 file\n",
        "file_path = '/content/trajectory.h5'\n",
        "\n",
        "import h5py\n",
        "\n",
        "file_path = '/content/trajectory.h5'\n",
        "\n",
        "with h5py.File(file_path, 'r') as hdf5_file:\n",
        "    def print_structure(name, obj):\n",
        "        print(name)\n",
        "    hdf5_file.visititems(print_structure)\n",
        "\n",
        "\n",
        "# # Open the HDF5 file\n",
        "# with h5py.File(file_path, 'r') as hdf5_file:\n",
        "#     # Access image datasets\n",
        "#     exterior_image_1 = hdf5_file[\"steps/observation/exterior_image_1_left\"][:]\n",
        "\n",
        "#     # Create directories to save images\n",
        "#     output_dir = \"exterior_images\"\n",
        "#     os.makedirs(f\"{output_dir}/exterior_image_1_left\", exist_ok=True)\n",
        "\n",
        "#     # Save exterior_image_1_left images\n",
        "#     for idx, image_array in enumerate(exterior_image_1):\n",
        "#         image = Image.fromarray(image_array)\n",
        "#         image.save(f\"{output_dir}/exterior_image_1_left/image_{idx:04d}.png\")\n",
        "\n",
        "# print(f\"Images saved in '{output_dir}' directory.\")\n"
      ],
      "metadata": {
        "colab": {
          "base_uri": "https://localhost:8080/"
        },
        "id": "62Sh2j61T0PP",
        "outputId": "241d9ccd-1e75-4e2d-beaf-f5a421ac1f3b"
      },
      "execution_count": null,
      "outputs": [
        {
          "output_type": "stream",
          "name": "stdout",
          "text": [
            "action\n",
            "action/cartesian_position\n",
            "action/cartesian_velocity\n",
            "action/gripper_position\n",
            "action/gripper_velocity\n",
            "action/joint_position\n",
            "action/joint_velocity\n",
            "action/robot_state\n",
            "action/robot_state/cartesian_position\n",
            "action/robot_state/gripper_position\n",
            "action/robot_state/joint_positions\n",
            "action/robot_state/joint_torques_computed\n",
            "action/robot_state/joint_velocities\n",
            "action/robot_state/motor_torques_measured\n",
            "action/robot_state/prev_command_successful\n",
            "action/robot_state/prev_controller_latency_ms\n",
            "action/robot_state/prev_joint_torques_computed\n",
            "action/robot_state/prev_joint_torques_computed_safened\n",
            "action/target_cartesian_position\n",
            "action/target_gripper_position\n",
            "observation\n",
            "observation/camera_extrinsics\n",
            "observation/camera_extrinsics/16291792_left\n",
            "observation/camera_extrinsics/16291792_left_gripper_offset\n",
            "observation/camera_extrinsics/16291792_right\n",
            "observation/camera_extrinsics/16291792_right_gripper_offset\n",
            "observation/camera_extrinsics/19824535_left\n",
            "observation/camera_extrinsics/19824535_right\n",
            "observation/camera_extrinsics/22246076_left\n",
            "observation/camera_extrinsics/22246076_right\n",
            "observation/camera_extrinsics/23404442_left\n",
            "observation/camera_extrinsics/23404442_right\n",
            "observation/camera_extrinsics/26405488_left\n",
            "observation/camera_extrinsics/26405488_right\n",
            "observation/camera_extrinsics/26638268_left\n",
            "observation/camera_extrinsics/26638268_right\n",
            "observation/camera_extrinsics/29838012_left\n",
            "observation/camera_extrinsics/29838012_right\n",
            "observation/camera_type\n",
            "observation/camera_type/16291792\n",
            "observation/camera_type/22246076\n",
            "observation/camera_type/26638268\n",
            "observation/controller_info\n",
            "observation/controller_info/controller_on\n",
            "observation/controller_info/failure\n",
            "observation/controller_info/movement_enabled\n",
            "observation/controller_info/success\n",
            "observation/robot_state\n",
            "observation/robot_state/cartesian_position\n",
            "observation/robot_state/gripper_position\n",
            "observation/robot_state/joint_positions\n",
            "observation/robot_state/joint_torques_computed\n",
            "observation/robot_state/joint_velocities\n",
            "observation/robot_state/motor_torques_measured\n",
            "observation/robot_state/prev_command_successful\n",
            "observation/robot_state/prev_controller_latency_ms\n",
            "observation/robot_state/prev_joint_torques_computed\n",
            "observation/robot_state/prev_joint_torques_computed_safened\n",
            "observation/timestamp\n",
            "observation/timestamp/cameras\n",
            "observation/timestamp/cameras/16291792_estimated_capture\n",
            "observation/timestamp/cameras/16291792_frame_received\n",
            "observation/timestamp/cameras/16291792_read_end\n",
            "observation/timestamp/cameras/16291792_read_start\n",
            "observation/timestamp/cameras/22246076_estimated_capture\n",
            "observation/timestamp/cameras/22246076_frame_received\n",
            "observation/timestamp/cameras/22246076_read_end\n",
            "observation/timestamp/cameras/22246076_read_start\n",
            "observation/timestamp/cameras/26638268_estimated_capture\n",
            "observation/timestamp/cameras/26638268_frame_received\n",
            "observation/timestamp/cameras/26638268_read_end\n",
            "observation/timestamp/cameras/26638268_read_start\n",
            "observation/timestamp/control\n",
            "observation/timestamp/control/control_start\n",
            "observation/timestamp/control/policy_start\n",
            "observation/timestamp/control/sleep_start\n",
            "observation/timestamp/control/step_end\n",
            "observation/timestamp/control/step_start\n",
            "observation/timestamp/robot_state\n",
            "observation/timestamp/robot_state/read_end\n",
            "observation/timestamp/robot_state/read_start\n",
            "observation/timestamp/robot_state/robot_timestamp_nanos\n",
            "observation/timestamp/robot_state/robot_timestamp_seconds\n",
            "observation/timestamp/skip_action\n"
          ]
        }
      ]
    }
  ],
  "metadata": {
    "accelerator": "GPU",
    "colab": {
      "gpuType": "T4",
      "provenance": []
    },
    "kernelspec": {
      "display_name": "Python 3",
      "name": "python3"
    },
    "language_info": {
      "name": "python"
    }
  },
  "nbformat": 4,
  "nbformat_minor": 0
}